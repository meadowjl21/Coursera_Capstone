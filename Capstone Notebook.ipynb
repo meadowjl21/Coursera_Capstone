{
    "cells": [
        {
            "cell_type": "markdown",
            "metadata": {
                "collapsed": true
            },
            "source": "# IBM Data Science Capstone Project Notebook"
        },
        {
            "cell_type": "markdown",
            "metadata": {},
            "source": "## Project Title: Alternative areas to Asheville, NC"
        },
        {
            "cell_type": "markdown",
            "metadata": {},
            "source": "### Introduction / Business Problem"
        },
        {
            "cell_type": "markdown",
            "metadata": {},
            "source": "Asheville, North Carolina has been a tourist destination since the middle of the 19th century when people came to the area seeking relief from tuberculosis. At the time it was thought the climate promoted healing and relief of tuberculosis and numerous boarding houses and sanitariums were established to support this industry. In more recent years, Asheville has seen double-digit population growth since the 1990s and is commonly featured on lists of top destinations. Because of this continued growth and demand the cost of housing in Asheville is higher than most other areas in North Carolina. \n\nThe objective of this project is to compare Asheville with other metropolitan areas in North Carolina to identify similar areas in terms of businesses and venues but with lower cost housing. There are factors that we are not considering that can be considered unique to Asheville which could ultimately influence a buyer's decision such as the geography and climate.\n\nThe audience for our project is people who would like to purchase a single-family home in Asheville but either can\u2019t afford the cost or choose not to pay the prices. We are attempting to help these people find alternative locations in North Carolina that are similar in terms of businesses/venues to Asheville but with lower cost housing."
        },
        {
            "cell_type": "markdown",
            "metadata": {},
            "source": "### Data"
        },
        {
            "cell_type": "markdown",
            "metadata": {},
            "source": "#### House Price Data"
        },
        {
            "cell_type": "markdown",
            "metadata": {},
            "source": "We will use the Federal Housing Finance Agency\u2019s House Price Index (HPI) to determine how the price of housing compares across US Census Bureau Metropolitan Statistical Areas (MSAs). We\u2019ll use the most recent HPI data available which is from the first quarter of 2021. We\u2019ll also use the \u201call-transactions\u201d type which includes both refinance mortgages and purchase-only data. We\u2019re choosing this type because it appears to be the only type for which recent data is available that includes Asheville, NC. We\u2019ll use the non-seasonally adjusted index since it appears the seasonally adjusted index is not available for the \u201call-transactions\u201d type.\n\nhttps://www.fhfa.gov/DataTools/Downloads/Pages/House-Price-Index.aspx\n\nNOTE: the HPI focuses on single-family house prices and primarily on mortgages that are purchased and/or securitized by Fannie Mae or Freddie Mac.\n\nThere are several MSAs listed for North Carolina, but we will be focusing our comparison on the following MSAs: Asheville, Charlotte-Concord-Gastonia, Durham-Chapel Hill, Greensboro-High Point, Hickory-Lenoir-Morganton, Raleigh-Cary, Wilmington, and Winston-Salem."
        },
        {
            "cell_type": "markdown",
            "metadata": {},
            "source": "#### Location / Venue Data"
        },
        {
            "cell_type": "markdown",
            "metadata": {},
            "source": "We will use the Foursquare API to acquire location/venue data by zip-code for comparison.\n\nhttps://developer.foursquare.com/docs/places-api/\n\nWe will use the US Department of Housing and Urban Development\u2019s (HUD) crosswalk between MSAs and zip-codes to acquire the list of zip-codes within each MSA. NOTE: zip-codes can sometimes be located partially inside and outside of an MSA.\n\nhttps://www.huduser.gov/portal/datasets/usps_crosswalk.html#data\n"
        },
        {
            "cell_type": "code",
            "execution_count": null,
            "metadata": {},
            "outputs": [],
            "source": ""
        }
    ],
    "metadata": {
        "kernelspec": {
            "display_name": "Python 3.7",
            "language": "python",
            "name": "python3"
        },
        "language_info": {
            "codemirror_mode": {
                "name": "ipython",
                "version": 3
            },
            "file_extension": ".py",
            "mimetype": "text/x-python",
            "name": "python",
            "nbconvert_exporter": "python",
            "pygments_lexer": "ipython3",
            "version": "3.7.10"
        }
    },
    "nbformat": 4,
    "nbformat_minor": 1
}
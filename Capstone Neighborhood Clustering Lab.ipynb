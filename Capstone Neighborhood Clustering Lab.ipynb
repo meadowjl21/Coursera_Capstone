{
    "cells": [
        {
            "cell_type": "markdown",
            "metadata": {
                "collapsed": true
            },
            "source": "# Capstone Neighborhood Clustering Lab"
        },
        {
            "cell_type": "markdown",
            "metadata": {},
            "source": "## Part 1: Acquire and Clean Data"
        },
        {
            "cell_type": "code",
            "execution_count": 1,
            "metadata": {},
            "outputs": [
                {
                    "name": "stdout",
                    "output_type": "stream",
                    "text": "/opt/conda/envs/Python-3.7-main/lib/python3.7/site-packages/secretstorage/dhcrypto.py:16: CryptographyDeprecationWarning: int_from_bytes is deprecated, use int.from_bytes instead\n  from cryptography.utils import int_from_bytes\n/opt/conda/envs/Python-3.7-main/lib/python3.7/site-packages/secretstorage/util.py:25: CryptographyDeprecationWarning: int_from_bytes is deprecated, use int.from_bytes instead\n  from cryptography.utils import int_from_bytes\nCollecting geocoder\n  Downloading geocoder-1.38.1-py2.py3-none-any.whl (98 kB)\n\u001b[K     |\u2588\u2588\u2588\u2588\u2588\u2588\u2588\u2588\u2588\u2588\u2588\u2588\u2588\u2588\u2588\u2588\u2588\u2588\u2588\u2588\u2588\u2588\u2588\u2588\u2588\u2588\u2588\u2588\u2588\u2588\u2588\u2588| 98 kB 8.4 MB/s  eta 0:00:01\n\u001b[?25hRequirement already satisfied: requests in /opt/conda/envs/Python-3.7-main/lib/python3.7/site-packages (from geocoder) (2.24.0)\nRequirement already satisfied: click in /opt/conda/envs/Python-3.7-main/lib/python3.7/site-packages (from geocoder) (7.1.2)\nRequirement already satisfied: future in /opt/conda/envs/Python-3.7-main/lib/python3.7/site-packages (from geocoder) (0.18.2)\nCollecting ratelim\n  Downloading ratelim-0.1.6-py2.py3-none-any.whl (4.0 kB)\nRequirement already satisfied: six in /opt/conda/envs/Python-3.7-main/lib/python3.7/site-packages (from geocoder) (1.15.0)\nRequirement already satisfied: urllib3!=1.25.0,!=1.25.1,<1.26,>=1.21.1 in /opt/conda/envs/Python-3.7-main/lib/python3.7/site-packages (from requests->geocoder) (1.25.9)\nRequirement already satisfied: chardet<4,>=3.0.2 in /opt/conda/envs/Python-3.7-main/lib/python3.7/site-packages (from requests->geocoder) (3.0.4)\nRequirement already satisfied: certifi>=2017.4.17 in /opt/conda/envs/Python-3.7-main/lib/python3.7/site-packages (from requests->geocoder) (2020.12.5)\nRequirement already satisfied: idna<3,>=2.5 in /opt/conda/envs/Python-3.7-main/lib/python3.7/site-packages (from requests->geocoder) (2.9)\nRequirement already satisfied: decorator in /opt/conda/envs/Python-3.7-main/lib/python3.7/site-packages (from ratelim->geocoder) (4.4.2)\nInstalling collected packages: ratelim, geocoder\nSuccessfully installed geocoder-1.38.1 ratelim-0.1.6\n"
                }
            ],
            "source": "#install necessary libraries and set options\nimport pandas as pd\nimport requests\nfrom bs4 import BeautifulSoup\n!pip install geocoder\nimport geocoder\npd.set_option('display.max_columns', None)\npd.set_option('display.max_rows', None)"
        },
        {
            "cell_type": "code",
            "execution_count": 2,
            "metadata": {},
            "outputs": [],
            "source": "#scrape data from Wikipedia page and store in dataframe\nreq = requests.get(\"https://en.wikipedia.org/w/index.php?title=List_of_postal_codes_of_Canada:_M&oldid=1012118802\") \nsoup = BeautifulSoup(req.content,'lxml') \ntable = soup.find_all('table')[0]  \ndf = pd.read_html(str(table)) \nneighborhood=pd.DataFrame(df[0]) "
        },
        {
            "cell_type": "code",
            "execution_count": 3,
            "metadata": {},
            "outputs": [
                {
                    "name": "stdout",
                    "output_type": "stream",
                    "text": "(180, 3)\n"
                },
                {
                    "data": {
                        "text/html": "<div>\n<style scoped>\n    .dataframe tbody tr th:only-of-type {\n        vertical-align: middle;\n    }\n\n    .dataframe tbody tr th {\n        vertical-align: top;\n    }\n\n    .dataframe thead th {\n        text-align: right;\n    }\n</style>\n<table border=\"1\" class=\"dataframe\">\n  <thead>\n    <tr style=\"text-align: right;\">\n      <th></th>\n      <th>Postal Code</th>\n      <th>Borough</th>\n      <th>Neighbourhood</th>\n    </tr>\n  </thead>\n  <tbody>\n    <tr>\n      <th>0</th>\n      <td>M1A</td>\n      <td>Not assigned</td>\n      <td>Not assigned</td>\n    </tr>\n    <tr>\n      <th>1</th>\n      <td>M2A</td>\n      <td>Not assigned</td>\n      <td>Not assigned</td>\n    </tr>\n    <tr>\n      <th>2</th>\n      <td>M3A</td>\n      <td>North York</td>\n      <td>Parkwoods</td>\n    </tr>\n    <tr>\n      <th>3</th>\n      <td>M4A</td>\n      <td>North York</td>\n      <td>Victoria Village</td>\n    </tr>\n    <tr>\n      <th>4</th>\n      <td>M5A</td>\n      <td>Downtown Toronto</td>\n      <td>Regent Park, Harbourfront</td>\n    </tr>\n    <tr>\n      <th>5</th>\n      <td>M6A</td>\n      <td>North York</td>\n      <td>Lawrence Manor, Lawrence Heights</td>\n    </tr>\n    <tr>\n      <th>6</th>\n      <td>M7A</td>\n      <td>Downtown Toronto</td>\n      <td>Queen's Park, Ontario Provincial Government</td>\n    </tr>\n    <tr>\n      <th>7</th>\n      <td>M8A</td>\n      <td>Not assigned</td>\n      <td>Not assigned</td>\n    </tr>\n    <tr>\n      <th>8</th>\n      <td>M9A</td>\n      <td>Etobicoke</td>\n      <td>Islington Avenue, Humber Valley Village</td>\n    </tr>\n    <tr>\n      <th>9</th>\n      <td>M1B</td>\n      <td>Scarborough</td>\n      <td>Malvern, Rouge</td>\n    </tr>\n  </tbody>\n</table>\n</div>",
                        "text/plain": "  Postal Code           Borough                                Neighbourhood\n0         M1A      Not assigned                                 Not assigned\n1         M2A      Not assigned                                 Not assigned\n2         M3A        North York                                    Parkwoods\n3         M4A        North York                             Victoria Village\n4         M5A  Downtown Toronto                    Regent Park, Harbourfront\n5         M6A        North York             Lawrence Manor, Lawrence Heights\n6         M7A  Downtown Toronto  Queen's Park, Ontario Provincial Government\n7         M8A      Not assigned                                 Not assigned\n8         M9A         Etobicoke      Islington Avenue, Humber Valley Village\n9         M1B       Scarborough                               Malvern, Rouge"
                    },
                    "execution_count": 3,
                    "metadata": {},
                    "output_type": "execute_result"
                }
            ],
            "source": "#check the shape and first 10 rows of the dataframe prior to cleaning\nprint(neighborhood.shape)\nneighborhood.head(10)"
        },
        {
            "cell_type": "code",
            "execution_count": 4,
            "metadata": {},
            "outputs": [
                {
                    "data": {
                        "text/plain": "(77, 3)"
                    },
                    "execution_count": 4,
                    "metadata": {},
                    "output_type": "execute_result"
                }
            ],
            "source": "#confirm how many rows contain \"Not assigned\" in the Borough column. These will be removed.\nneighborhood[neighborhood['Borough'] == \"Not assigned\"].shape"
        },
        {
            "cell_type": "code",
            "execution_count": 5,
            "metadata": {},
            "outputs": [],
            "source": "#create a new dataframe where rows with \"Not assigned\" in the Borough column have been removed.\nneighborhood_filtered = neighborhood[neighborhood['Borough'] != \"Not assigned\"]\nneighborhood_filtered.reset_index(drop = True, inplace = True)"
        },
        {
            "cell_type": "code",
            "execution_count": 6,
            "metadata": {},
            "outputs": [
                {
                    "name": "stdout",
                    "output_type": "stream",
                    "text": "(103, 3)\n"
                },
                {
                    "data": {
                        "text/html": "<div>\n<style scoped>\n    .dataframe tbody tr th:only-of-type {\n        vertical-align: middle;\n    }\n\n    .dataframe tbody tr th {\n        vertical-align: top;\n    }\n\n    .dataframe thead th {\n        text-align: right;\n    }\n</style>\n<table border=\"1\" class=\"dataframe\">\n  <thead>\n    <tr style=\"text-align: right;\">\n      <th></th>\n      <th>Postal Code</th>\n      <th>Borough</th>\n      <th>Neighbourhood</th>\n    </tr>\n  </thead>\n  <tbody>\n    <tr>\n      <th>0</th>\n      <td>M3A</td>\n      <td>North York</td>\n      <td>Parkwoods</td>\n    </tr>\n    <tr>\n      <th>1</th>\n      <td>M4A</td>\n      <td>North York</td>\n      <td>Victoria Village</td>\n    </tr>\n    <tr>\n      <th>2</th>\n      <td>M5A</td>\n      <td>Downtown Toronto</td>\n      <td>Regent Park, Harbourfront</td>\n    </tr>\n    <tr>\n      <th>3</th>\n      <td>M6A</td>\n      <td>North York</td>\n      <td>Lawrence Manor, Lawrence Heights</td>\n    </tr>\n    <tr>\n      <th>4</th>\n      <td>M7A</td>\n      <td>Downtown Toronto</td>\n      <td>Queen's Park, Ontario Provincial Government</td>\n    </tr>\n    <tr>\n      <th>5</th>\n      <td>M9A</td>\n      <td>Etobicoke</td>\n      <td>Islington Avenue, Humber Valley Village</td>\n    </tr>\n    <tr>\n      <th>6</th>\n      <td>M1B</td>\n      <td>Scarborough</td>\n      <td>Malvern, Rouge</td>\n    </tr>\n    <tr>\n      <th>7</th>\n      <td>M3B</td>\n      <td>North York</td>\n      <td>Don Mills</td>\n    </tr>\n    <tr>\n      <th>8</th>\n      <td>M4B</td>\n      <td>East York</td>\n      <td>Parkview Hill, Woodbine Gardens</td>\n    </tr>\n    <tr>\n      <th>9</th>\n      <td>M5B</td>\n      <td>Downtown Toronto</td>\n      <td>Garden District, Ryerson</td>\n    </tr>\n  </tbody>\n</table>\n</div>",
                        "text/plain": "  Postal Code           Borough                                Neighbourhood\n0         M3A        North York                                    Parkwoods\n1         M4A        North York                             Victoria Village\n2         M5A  Downtown Toronto                    Regent Park, Harbourfront\n3         M6A        North York             Lawrence Manor, Lawrence Heights\n4         M7A  Downtown Toronto  Queen's Park, Ontario Provincial Government\n5         M9A         Etobicoke      Islington Avenue, Humber Valley Village\n6         M1B       Scarborough                               Malvern, Rouge\n7         M3B        North York                                    Don Mills\n8         M4B         East York              Parkview Hill, Woodbine Gardens\n9         M5B  Downtown Toronto                     Garden District, Ryerson"
                    },
                    "execution_count": 6,
                    "metadata": {},
                    "output_type": "execute_result"
                }
            ],
            "source": "#check the shape and first 10 rows of the new cleaned dataframe\nprint(neighborhood_filtered.shape)\nneighborhood_filtered.head(10)"
        },
        {
            "cell_type": "code",
            "execution_count": 7,
            "metadata": {},
            "outputs": [
                {
                    "data": {
                        "text/plain": "(0, 3)"
                    },
                    "execution_count": 7,
                    "metadata": {},
                    "output_type": "execute_result"
                }
            ],
            "source": "#check to see if there are any rows with \"Not assigned\" in the Neighbourhood column\nneighborhood_filtered[neighborhood_filtered['Neighbourhood'] == \"Not assigned\"].shape"
        },
        {
            "cell_type": "code",
            "execution_count": 8,
            "metadata": {},
            "outputs": [
                {
                    "data": {
                        "text/html": "<div>\n<style scoped>\n    .dataframe tbody tr th:only-of-type {\n        vertical-align: middle;\n    }\n\n    .dataframe tbody tr th {\n        vertical-align: top;\n    }\n\n    .dataframe thead th {\n        text-align: right;\n    }\n</style>\n<table border=\"1\" class=\"dataframe\">\n  <thead>\n    <tr style=\"text-align: right;\">\n      <th></th>\n      <th>Postal Code</th>\n      <th>Borough</th>\n      <th>Neighbourhood</th>\n    </tr>\n  </thead>\n  <tbody>\n    <tr>\n      <th>count</th>\n      <td>103</td>\n      <td>103</td>\n      <td>103</td>\n    </tr>\n    <tr>\n      <th>unique</th>\n      <td>103</td>\n      <td>11</td>\n      <td>99</td>\n    </tr>\n    <tr>\n      <th>top</th>\n      <td>M6C</td>\n      <td>North York</td>\n      <td>Downsview</td>\n    </tr>\n    <tr>\n      <th>freq</th>\n      <td>1</td>\n      <td>24</td>\n      <td>4</td>\n    </tr>\n  </tbody>\n</table>\n</div>",
                        "text/plain": "       Postal Code     Borough Neighbourhood\ncount          103         103           103\nunique         103          11            99\ntop            M6C  North York     Downsview\nfreq             1          24             4"
                    },
                    "execution_count": 8,
                    "metadata": {},
                    "output_type": "execute_result"
                }
            ],
            "source": "#check to see if any postal codes are listed more than once\nneighborhood_filtered.describe()"
        },
        {
            "cell_type": "code",
            "execution_count": 9,
            "metadata": {},
            "outputs": [
                {
                    "data": {
                        "text/plain": "(103, 3)"
                    },
                    "execution_count": 9,
                    "metadata": {},
                    "output_type": "execute_result"
                }
            ],
            "source": "neighborhood_filtered.shape"
        },
        {
            "cell_type": "markdown",
            "metadata": {},
            "source": "## Part 2: Get lat and long data"
        },
        {
            "cell_type": "code",
            "execution_count": 43,
            "metadata": {},
            "outputs": [],
            "source": "#!pip install geocoder\n#import geocoder\n\nlatitude=[]\nlongitude=[]\nfor code in neighborhood_filtered['Postal Code']:\n    g = geocoder.arcgis('{}, Toronto, Ontario'.format(code))\n    #print(code, g.latlng)\n    while (g.latlng is None):\n        g = geocoder.arcgis('{}, Toronto, Ontario'.format(code))\n        #print(code, g.latlng)\n    latlng = g.latlng\n    latitude.append(latlng[0])\n    longitude.append(latlng[1])\n\n#create dataframes for the latitude and longitude lists\nlatitude_df = pd.DataFrame(latitude, columns = {'latitude'})\nlongitude_df = pd.DataFrame(longitude, columns = {'longitude'})\n\n#merge the latitude and longitude dataframes with the neighborhood dataframe\nlat_long_df = latitude_df.merge(longitude_df, how = 'left', left_index = True, right_index = True)\nneighborhood_merged = neighborhood_filtered.merge(lat_long_df, how = 'left', left_index = True, right_index = True)"
        },
        {
            "cell_type": "code",
            "execution_count": 45,
            "metadata": {},
            "outputs": [
                {
                    "data": {
                        "text/html": "<div>\n<style scoped>\n    .dataframe tbody tr th:only-of-type {\n        vertical-align: middle;\n    }\n\n    .dataframe tbody tr th {\n        vertical-align: top;\n    }\n\n    .dataframe thead th {\n        text-align: right;\n    }\n</style>\n<table border=\"1\" class=\"dataframe\">\n  <thead>\n    <tr style=\"text-align: right;\">\n      <th></th>\n      <th>Postal Code</th>\n      <th>Borough</th>\n      <th>Neighbourhood</th>\n      <th>latitude</th>\n      <th>longitude</th>\n    </tr>\n  </thead>\n  <tbody>\n    <tr>\n      <th>0</th>\n      <td>M3A</td>\n      <td>North York</td>\n      <td>Parkwoods</td>\n      <td>43.75245</td>\n      <td>-79.32991</td>\n    </tr>\n    <tr>\n      <th>1</th>\n      <td>M4A</td>\n      <td>North York</td>\n      <td>Victoria Village</td>\n      <td>43.73057</td>\n      <td>-79.31306</td>\n    </tr>\n    <tr>\n      <th>2</th>\n      <td>M5A</td>\n      <td>Downtown Toronto</td>\n      <td>Regent Park, Harbourfront</td>\n      <td>43.65512</td>\n      <td>-79.36264</td>\n    </tr>\n    <tr>\n      <th>3</th>\n      <td>M6A</td>\n      <td>North York</td>\n      <td>Lawrence Manor, Lawrence Heights</td>\n      <td>43.72327</td>\n      <td>-79.45042</td>\n    </tr>\n    <tr>\n      <th>4</th>\n      <td>M7A</td>\n      <td>Downtown Toronto</td>\n      <td>Queen's Park, Ontario Provincial Government</td>\n      <td>43.66253</td>\n      <td>-79.39188</td>\n    </tr>\n    <tr>\n      <th>5</th>\n      <td>M9A</td>\n      <td>Etobicoke</td>\n      <td>Islington Avenue, Humber Valley Village</td>\n      <td>43.66263</td>\n      <td>-79.52831</td>\n    </tr>\n    <tr>\n      <th>6</th>\n      <td>M1B</td>\n      <td>Scarborough</td>\n      <td>Malvern, Rouge</td>\n      <td>43.81139</td>\n      <td>-79.19662</td>\n    </tr>\n    <tr>\n      <th>7</th>\n      <td>M3B</td>\n      <td>North York</td>\n      <td>Don Mills</td>\n      <td>43.74923</td>\n      <td>-79.36186</td>\n    </tr>\n    <tr>\n      <th>8</th>\n      <td>M4B</td>\n      <td>East York</td>\n      <td>Parkview Hill, Woodbine Gardens</td>\n      <td>43.70718</td>\n      <td>-79.31192</td>\n    </tr>\n    <tr>\n      <th>9</th>\n      <td>M5B</td>\n      <td>Downtown Toronto</td>\n      <td>Garden District, Ryerson</td>\n      <td>43.65739</td>\n      <td>-79.37804</td>\n    </tr>\n  </tbody>\n</table>\n</div>",
                        "text/plain": "  Postal Code           Borough                                Neighbourhood  \\\n0         M3A        North York                                    Parkwoods   \n1         M4A        North York                             Victoria Village   \n2         M5A  Downtown Toronto                    Regent Park, Harbourfront   \n3         M6A        North York             Lawrence Manor, Lawrence Heights   \n4         M7A  Downtown Toronto  Queen's Park, Ontario Provincial Government   \n5         M9A         Etobicoke      Islington Avenue, Humber Valley Village   \n6         M1B       Scarborough                               Malvern, Rouge   \n7         M3B        North York                                    Don Mills   \n8         M4B         East York              Parkview Hill, Woodbine Gardens   \n9         M5B  Downtown Toronto                     Garden District, Ryerson   \n\n   latitude  longitude  \n0  43.75245  -79.32991  \n1  43.73057  -79.31306  \n2  43.65512  -79.36264  \n3  43.72327  -79.45042  \n4  43.66253  -79.39188  \n5  43.66263  -79.52831  \n6  43.81139  -79.19662  \n7  43.74923  -79.36186  \n8  43.70718  -79.31192  \n9  43.65739  -79.37804  "
                    },
                    "execution_count": 45,
                    "metadata": {},
                    "output_type": "execute_result"
                }
            ],
            "source": "neighborhood_merged.head(10)"
        },
        {
            "cell_type": "markdown",
            "metadata": {},
            "source": "## Part 3: Explore and Cluster Neighborhoods in Toronto"
        },
        {
            "cell_type": "code",
            "execution_count": null,
            "metadata": {},
            "outputs": [],
            "source": ""
        }
    ],
    "metadata": {
        "kernelspec": {
            "display_name": "Python 3.7",
            "language": "python",
            "name": "python3"
        },
        "language_info": {
            "codemirror_mode": {
                "name": "ipython",
                "version": 3
            },
            "file_extension": ".py",
            "mimetype": "text/x-python",
            "name": "python",
            "nbconvert_exporter": "python",
            "pygments_lexer": "ipython3",
            "version": "3.7.10"
        }
    },
    "nbformat": 4,
    "nbformat_minor": 1
}